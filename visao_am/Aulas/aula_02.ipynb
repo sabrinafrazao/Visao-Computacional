{
 "cells": [
  {
   "cell_type": "code",
   "execution_count": null,
   "id": "fe4a376c-56a1-4efc-b4ae-73dfa66209c1",
   "metadata": {},
   "outputs": [],
   "source": []
  },
  {
   "cell_type": "code",
   "execution_count": 1,
   "id": "99868d78-b4dc-47b8-b883-ed5c5dee68fe",
   "metadata": {},
   "outputs": [
    {
     "name": "stdout",
     "output_type": "stream",
     "text": [
      " O volume na unidade E ‚ Disco Local\n",
      " O N£mero de S‚rie do Volume ‚ EC7C-50A7\n",
      "\n",
      " Pasta de E:\\visao_am\n",
      "\n",
      "04/05/2024  08:53    <DIR>          .\n",
      "04/05/2024  08:53    <DIR>          ..\n",
      "04/05/2024  08:53    <DIR>          .ipynb_checkpoints\n",
      "04/05/2024  08:52               337 aula_02.ipynb\n",
      "04/05/2024  08:45    <DIR>          imagens_visao_am\n",
      "04/05/2024  08:45    <DIR>          visao_am_basico\n",
      "               1 arquivo(s)            337 bytes\n",
      "               5 pasta(s)   999.825.752.064 bytes dispon¡veis\n"
     ]
    }
   ],
   "source": [
    "ls"
   ]
  },
  {
   "cell_type": "code",
   "execution_count": 2,
   "id": "f7eb5de8-17aa-455f-afdb-68ec09977717",
   "metadata": {},
   "outputs": [
    {
     "data": {
      "text/plain": [
       "'E:\\\\visao_am'"
      ]
     },
     "execution_count": 2,
     "metadata": {},
     "output_type": "execute_result"
    }
   ],
   "source": [
    "pwd"
   ]
  },
  {
   "cell_type": "code",
   "execution_count": 3,
   "id": "cc252d84-f867-45d9-9e74-12830a6487a4",
   "metadata": {},
   "outputs": [],
   "source": [
    "list_1 = ['janeiro', 'fevereiro', 'março']"
   ]
  },
  {
   "cell_type": "code",
   "execution_count": 8,
   "id": "88b5c72d-bcd5-4ad3-b860-315d545ec63a",
   "metadata": {},
   "outputs": [
    {
     "data": {
      "text/plain": [
       "list"
      ]
     },
     "execution_count": 8,
     "metadata": {},
     "output_type": "execute_result"
    }
   ],
   "source": [
    "type(list_1)"
   ]
  },
  {
   "cell_type": "code",
   "execution_count": 4,
   "id": "63fc4099-3992-4acd-8d45-40b6b13effe1",
   "metadata": {},
   "outputs": [
    {
     "name": "stdout",
     "output_type": "stream",
     "text": [
      "['janeiro', 'fevereiro', 'março']\n"
     ]
    }
   ],
   "source": [
    "print(list_1)"
   ]
  },
  {
   "cell_type": "code",
   "execution_count": 7,
   "id": "bfb23f7d-d30c-416d-b577-bd3757f9edbe",
   "metadata": {},
   "outputs": [
    {
     "name": "stdout",
     "output_type": "stream",
     "text": [
      "valor de x:  1 Valor de s:  0\n",
      "valor de x:  2 Valor de s:  1\n",
      "valor de x:  3 Valor de s:  3\n",
      "valor de x:  4 Valor de s:  6\n",
      "valor de x:  5 Valor de s:  10\n",
      "valor de x:  6 Valor de s:  15\n",
      "valor de x:  7 Valor de s:  21\n",
      "valor de x:  8 Valor de s:  28\n",
      "valor de x:  9 Valor de s:  36\n",
      "valor de x:  10 Valor de s:  45\n",
      "valor de x:  11 Valor de s:  55\n",
      "valor de x:  12 Valor de s:  66\n",
      "valor de x:  13 Valor de s:  78\n",
      "valor de x:  14 Valor de s:  91\n",
      "valor de x:  15 Valor de s:  105\n",
      "valor de x:  16 Valor de s:  120\n",
      "valor de x:  17 Valor de s:  136\n",
      "valor de x:  18 Valor de s:  153\n",
      "valor de x:  19 Valor de s:  171\n",
      "valor de x:  20 Valor de s:  190\n",
      "valor de x:  21 Valor de s:  210\n",
      "valor de x:  22 Valor de s:  231\n",
      "valor de x:  23 Valor de s:  253\n",
      "valor de x:  24 Valor de s:  276\n",
      "valor de x:  25 Valor de s:  300\n"
     ]
    }
   ],
   "source": [
    "x=0\n",
    "s=0\n",
    "while x < 25:\n",
    "    s= s+x\n",
    "    x= x+1\n",
    "    print('valor de x: ',x, 'Valor de s: ', s)"
   ]
  },
  {
   "cell_type": "code",
   "execution_count": 9,
   "id": "c19ee4bd-a4c8-4eea-9bfc-4c9fc4b0da8d",
   "metadata": {},
   "outputs": [],
   "source": [
    "nome = 'Maria'"
   ]
  },
  {
   "cell_type": "code",
   "execution_count": 11,
   "id": "465acad1-bab9-4fbf-a8e5-028e4200d16d",
   "metadata": {},
   "outputs": [],
   "source": [
    "nome += \"Silva\""
   ]
  },
  {
   "cell_type": "code",
   "execution_count": 12,
   "id": "8c603819-15a3-49aa-8232-7f803b68307b",
   "metadata": {},
   "outputs": [
    {
     "data": {
      "text/plain": [
       "'MariaSilva'"
      ]
     },
     "execution_count": 12,
     "metadata": {},
     "output_type": "execute_result"
    }
   ],
   "source": [
    "nome"
   ]
  },
  {
   "cell_type": "code",
   "execution_count": 14,
   "id": "6ca3cbc1-98e0-449e-937e-e66e86a8c624",
   "metadata": {},
   "outputs": [],
   "source": [
    "list_1 += ['abril']"
   ]
  },
  {
   "cell_type": "code",
   "execution_count": 15,
   "id": "d9317c91-0897-43a9-b739-87a407709852",
   "metadata": {},
   "outputs": [
    {
     "data": {
      "text/plain": [
       "['janeiro', 'fevereiro', 'março', 'abril']"
      ]
     },
     "execution_count": 15,
     "metadata": {},
     "output_type": "execute_result"
    }
   ],
   "source": [
    "list_1"
   ]
  },
  {
   "cell_type": "code",
   "execution_count": 18,
   "id": "45d7ba35-db00-419b-8682-e6c55891369b",
   "metadata": {},
   "outputs": [],
   "source": [
    "list_1 += ['maio']"
   ]
  },
  {
   "cell_type": "code",
   "execution_count": 19,
   "id": "6df7914a-0c18-451a-a2a8-8bd295b5dcd0",
   "metadata": {},
   "outputs": [
    {
     "data": {
      "text/plain": [
       "['janeiro', 'fevereiro', 'março', 'abril', 'm', 'a', 'i', 'o', 'maio']"
      ]
     },
     "execution_count": 19,
     "metadata": {},
     "output_type": "execute_result"
    }
   ],
   "source": [
    "list_1"
   ]
  },
  {
   "cell_type": "code",
   "execution_count": 20,
   "id": "9cd4fc7f-f529-4ee8-a77f-c6d3ba760875",
   "metadata": {},
   "outputs": [],
   "source": [
    "list_1.append('junho')"
   ]
  },
  {
   "cell_type": "code",
   "execution_count": 21,
   "id": "fd20d39f-9b12-4de4-bade-1bf3bd6a41c6",
   "metadata": {},
   "outputs": [
    {
     "data": {
      "text/plain": [
       "['janeiro', 'fevereiro', 'março', 'abril', 'm', 'a', 'i', 'o', 'maio', 'junho']"
      ]
     },
     "execution_count": 21,
     "metadata": {},
     "output_type": "execute_result"
    }
   ],
   "source": [
    "list_1"
   ]
  },
  {
   "cell_type": "code",
   "execution_count": 22,
   "id": "d69d14c3-25e8-45a0-9a88-3827d4f0ea88",
   "metadata": {},
   "outputs": [],
   "source": [
    "x,y,z = 100, 'tipo', ['a','b','c']"
   ]
  },
  {
   "cell_type": "code",
   "execution_count": 23,
   "id": "59acd9cd-6fff-4d37-aff2-75886dbb4b45",
   "metadata": {},
   "outputs": [
    {
     "data": {
      "text/plain": [
       "['a', 'b', 'c']"
      ]
     },
     "execution_count": 23,
     "metadata": {},
     "output_type": "execute_result"
    }
   ],
   "source": [
    "z"
   ]
  },
  {
   "cell_type": "code",
   "execution_count": 24,
   "id": "2111b019-3aa4-4e38-9801-387cb912d358",
   "metadata": {},
   "outputs": [
    {
     "data": {
      "text/plain": [
       "\u001b[1;31mSignature:\u001b[0m \u001b[0mz\u001b[0m\u001b[1;33m.\u001b[0m\u001b[0minsert\u001b[0m\u001b[1;33m(\u001b[0m\u001b[0mindex\u001b[0m\u001b[1;33m,\u001b[0m \u001b[0mobject\u001b[0m\u001b[1;33m,\u001b[0m \u001b[1;33m/\u001b[0m\u001b[1;33m)\u001b[0m\u001b[1;33m\u001b[0m\u001b[1;33m\u001b[0m\u001b[0m\n",
       "\u001b[1;31mDocstring:\u001b[0m Insert object before index.\n",
       "\u001b[1;31mType:\u001b[0m      builtin_function_or_method"
      ]
     },
     "metadata": {},
     "output_type": "display_data"
    }
   ],
   "source": [
    "z.insert?"
   ]
  },
  {
   "cell_type": "code",
   "execution_count": 25,
   "id": "8023e534-0d03-4fb6-ae95-7d86d4b06652",
   "metadata": {},
   "outputs": [],
   "source": [
    "z.insert(1, 'w')"
   ]
  },
  {
   "cell_type": "code",
   "execution_count": 26,
   "id": "59641f8b-90b1-46dd-94db-15c83d647d04",
   "metadata": {},
   "outputs": [
    {
     "data": {
      "text/plain": [
       "['a', 'w', 'b', 'c']"
      ]
     },
     "execution_count": 26,
     "metadata": {},
     "output_type": "execute_result"
    }
   ],
   "source": [
    "z"
   ]
  },
  {
   "cell_type": "code",
   "execution_count": 27,
   "id": "502fa92b-c609-4811-9322-47cf1d588b67",
   "metadata": {},
   "outputs": [],
   "source": [
    "v_str = 'Visão computacional'"
   ]
  },
  {
   "cell_type": "code",
   "execution_count": 28,
   "id": "d9fc3c8a-2c83-47f9-9cfb-5766171bc938",
   "metadata": {},
   "outputs": [
    {
     "data": {
      "text/plain": [
       "'o'"
      ]
     },
     "execution_count": 28,
     "metadata": {},
     "output_type": "execute_result"
    }
   ],
   "source": [
    "v_str[4]"
   ]
  },
  {
   "cell_type": "code",
   "execution_count": 29,
   "id": "090a5f40-0f61-4061-8f20-33ea9f519f13",
   "metadata": {},
   "outputs": [
    {
     "data": {
      "text/plain": [
       "'o co'"
      ]
     },
     "execution_count": 29,
     "metadata": {},
     "output_type": "execute_result"
    }
   ],
   "source": [
    "v_str[4:8]"
   ]
  },
  {
   "cell_type": "code",
   "execution_count": 30,
   "id": "dd056f9a-5151-422a-a7b4-04558b054e14",
   "metadata": {},
   "outputs": [
    {
     "data": {
      "text/plain": [
       "'l'"
      ]
     },
     "execution_count": 30,
     "metadata": {},
     "output_type": "execute_result"
    }
   ],
   "source": [
    "v_str[-1]"
   ]
  },
  {
   "cell_type": "code",
   "execution_count": 31,
   "id": "227390f7-88d7-41fd-b465-4982212e27b4",
   "metadata": {},
   "outputs": [
    {
     "data": {
      "text/plain": [
       "'Vsoc'"
      ]
     },
     "execution_count": 31,
     "metadata": {},
     "output_type": "execute_result"
    }
   ],
   "source": [
    "v_str[0:8:2]"
   ]
  },
  {
   "cell_type": "code",
   "execution_count": 32,
   "id": "86796717-d485-42b3-a808-eedb2edcb576",
   "metadata": {},
   "outputs": [
    {
     "data": {
      "text/plain": [
       "'lanoicatupmoc oãsiV'"
      ]
     },
     "execution_count": 32,
     "metadata": {},
     "output_type": "execute_result"
    }
   ],
   "source": [
    "v_str[::-1]"
   ]
  },
  {
   "cell_type": "code",
   "execution_count": 33,
   "id": "29f9bab6-59a0-4d13-9275-dbb59cca0de4",
   "metadata": {},
   "outputs": [
    {
     "name": "stdout",
     "output_type": "stream",
     "text": [
      "Aluno MariaSilva cursou a disciplina:  Visão computacional  em abril\n"
     ]
    }
   ],
   "source": [
    "print('Aluno', nome, 'cursou a disciplina: ', v_str, ' em', list_1[3])"
   ]
  },
  {
   "cell_type": "code",
   "execution_count": 34,
   "id": "2c309889-0b8e-4940-8693-1b578beb8e5f",
   "metadata": {},
   "outputs": [
    {
     "data": {
      "text/plain": [
       "'abr'"
      ]
     },
     "execution_count": 34,
     "metadata": {},
     "output_type": "execute_result"
    }
   ],
   "source": [
    "list_1[3][0:3]"
   ]
  },
  {
   "cell_type": "code",
   "execution_count": 39,
   "id": "fe865743-38fc-4518-b0d7-b8ce692c217e",
   "metadata": {},
   "outputs": [
    {
     "name": "stdout",
     "output_type": "stream",
     "text": [
      "110 janeiro\n",
      "111 fevereiro\n",
      "112 março\n",
      "113 abril\n",
      "114 m\n",
      "115 a\n",
      "116 i\n",
      "117 o\n",
      "118 maio\n",
      "119 junho\n"
     ]
    }
   ],
   "source": [
    "for item in list_1:\n",
    "    print(x, item)\n",
    "    x +=1"
   ]
  },
  {
   "cell_type": "code",
   "execution_count": 45,
   "id": "155e7367-9cae-44da-94c3-35a9f0ee1cd4",
   "metadata": {},
   "outputs": [],
   "source": [
    "def media_notas(lista):\n",
    "    return sum(list(lista)/len(lista))\n",
    "    "
   ]
  },
  {
   "cell_type": "code",
   "execution_count": 51,
   "id": "47549e9c-4ba5-4164-b89e-e3c4b25b2af9",
   "metadata": {},
   "outputs": [
    {
     "name": "stdin",
     "output_type": "stream",
     "text": [
      "Digite uma nota ou Q para parar :  7.7\n",
      "Digite uma nota ou Q para parar :  8.8\n",
      "Digite uma nota ou Q para parar :  9\n",
      "Digite uma nota ou Q para parar :  Q\n"
     ]
    },
    {
     "ename": "TypeError",
     "evalue": "unsupported operand type(s) for /: 'list' and 'int'",
     "output_type": "error",
     "traceback": [
      "\u001b[1;31m---------------------------------------------------------------------------\u001b[0m",
      "\u001b[1;31mTypeError\u001b[0m                                 Traceback (most recent call last)",
      "Cell \u001b[1;32mIn[51], line 10\u001b[0m\n\u001b[0;32m      7\u001b[0m     \u001b[38;5;28;01melif\u001b[39;00m ent\u001b[38;5;241m.\u001b[39misnumeric():\n\u001b[0;32m      8\u001b[0m         list_notas\u001b[38;5;241m.\u001b[39mappend(\u001b[38;5;28mfloat\u001b[39m(ent)\n\u001b[0;32m      9\u001b[0m                          )\n\u001b[1;32m---> 10\u001b[0m media \u001b[38;5;241m=\u001b[39m \u001b[43mmedia_notas\u001b[49m\u001b[43m(\u001b[49m\u001b[43mlist_notas\u001b[49m\u001b[43m)\u001b[49m\n\u001b[0;32m     11\u001b[0m list_notas\u001b[38;5;241m.\u001b[39msort()\n\u001b[0;32m     12\u001b[0m \u001b[38;5;28mprint\u001b[39m(\u001b[38;5;124m'\u001b[39m\u001b[38;5;124mA média é: \u001b[39m\u001b[38;5;124m'\u001b[39m, media)\n",
      "Cell \u001b[1;32mIn[45], line 2\u001b[0m, in \u001b[0;36mmedia_notas\u001b[1;34m(lista)\u001b[0m\n\u001b[0;32m      1\u001b[0m \u001b[38;5;28;01mdef\u001b[39;00m \u001b[38;5;21mmedia_notas\u001b[39m(lista):\n\u001b[1;32m----> 2\u001b[0m     \u001b[38;5;28;01mreturn\u001b[39;00m \u001b[38;5;28msum\u001b[39m(\u001b[38;5;28;43mlist\u001b[39;49m\u001b[43m(\u001b[49m\u001b[43mlista\u001b[49m\u001b[43m)\u001b[49m\u001b[38;5;241;43m/\u001b[39;49m\u001b[38;5;28;43mlen\u001b[39;49m\u001b[43m(\u001b[49m\u001b[43mlista\u001b[49m\u001b[43m)\u001b[49m)\n",
      "\u001b[1;31mTypeError\u001b[0m: unsupported operand type(s) for /: 'list' and 'int'"
     ]
    }
   ],
   "source": [
    "ent = ''\n",
    "list_notas = []\n",
    "while True:\n",
    "    ent = input('Digite uma nota ou Q para parar : ')\n",
    "    if ent == 'Q':\n",
    "        break\n",
    "    elif ent.isnumeric():\n",
    "        list_notas.append(float(ent)\n",
    "                         )\n",
    "media = media_notas(list_notas)\n",
    "list_notas.sort()\n",
    "print('A média é: ', media)\n",
    "print('Quantidade de elementos: ', len(list_notas))\n",
    "print('Menor valor: ', list_notas[0])\n",
    "print('A média é: ', list_notas[-1])\n",
    "\n"
   ]
  },
  {
   "cell_type": "code",
   "execution_count": null,
   "id": "d9b16401-acaf-460f-b827-a7d98d178f2c",
   "metadata": {},
   "outputs": [],
   "source": [
    "# Numpy"
   ]
  },
  {
   "cell_type": "code",
   "execution_count": 52,
   "id": "b7f2f57f-8bcb-41de-8fb4-e19dedb518e1",
   "metadata": {},
   "outputs": [],
   "source": [
    "import numpy as np"
   ]
  },
  {
   "cell_type": "code",
   "execution_count": 53,
   "id": "c75c6405-b373-435f-a1d2-ad2c197e76e6",
   "metadata": {},
   "outputs": [
    {
     "data": {
      "text/plain": [
       "'1.26.4'"
      ]
     },
     "execution_count": 53,
     "metadata": {},
     "output_type": "execute_result"
    }
   ],
   "source": [
    "np.__version__"
   ]
  },
  {
   "cell_type": "code",
   "execution_count": 54,
   "id": "9addeead-7956-40c9-bed5-067fe80529e7",
   "metadata": {},
   "outputs": [],
   "source": [
    "m1 = np.array([12, 3, 5, 7, -6, 0])\n",
    "m2 = np.array([6, 12, 7, 11, 5, 1])"
   ]
  },
  {
   "cell_type": "code",
   "execution_count": 55,
   "id": "3969d370-822c-45f9-a8d2-5f473b898008",
   "metadata": {},
   "outputs": [
    {
     "data": {
      "text/plain": [
       "array([18, 15, 12, 18, -1,  1])"
      ]
     },
     "execution_count": 55,
     "metadata": {},
     "output_type": "execute_result"
    }
   ],
   "source": [
    "m1 + m2"
   ]
  },
  {
   "cell_type": "code",
   "execution_count": 56,
   "id": "d176a13a-da6a-47ad-aeb6-40e6e010ae27",
   "metadata": {},
   "outputs": [
    {
     "name": "stdout",
     "output_type": "stream",
     "text": [
      "[0, 1, 4, 9, 16, 25, 36, 49, 64, 81, 100, 121, 144, 169, 196, 225, 256, 289, 324, 361, 400, 441, 484, 529, 576, 625, 676, 729, 784, 841, 900, 961, 1024, 1089, 1156, 1225, 1296, 1369, 1444, 1521, 1600, 1681, 1764, 1849, 1936, 2025, 2116, 2209, 2304, 2401, 2500, 2601, 2704, 2809, 2916, 3025, 3136, 3249, 3364, 3481, 3600, 3721, 3844, 3969, 4096, 4225, 4356, 4489, 4624, 4761, 4900, 5041, 5184, 5329, 5476, 5625, 5776, 5929, 6084, 6241, 6400, 6561, 6724, 6889, 7056, 7225, 7396, 7569, 7744, 7921, 8100, 8281, 8464, 8649, 8836, 9025, 9216, 9409, 9604, 9801, 10000, 10201, 10404, 10609, 10816, 11025, 11236, 11449, 11664, 11881, 12100, 12321, 12544, 12769, 12996, 13225, 13456, 13689, 13924, 14161, 14400, 14641, 14884, 15129, 15376, 15625, 15876, 16129, 16384, 16641, 16900, 17161, 17424, 17689, 17956, 18225, 18496, 18769, 19044, 19321, 19600, 19881, 20164, 20449, 20736, 21025, 21316, 21609, 21904, 22201, 22500, 22801, 23104, 23409, 23716, 24025, 24336, 24649, 24964, 25281, 25600, 25921, 26244, 26569, 26896, 27225, 27556, 27889, 28224, 28561, 28900, 29241, 29584, 29929, 30276, 30625, 30976, 31329, 31684, 32041, 32400, 32761, 33124, 33489, 33856, 34225, 34596, 34969, 35344, 35721, 36100, 36481, 36864, 37249, 37636, 38025, 38416, 38809, 39204, 39601, 40000, 40401, 40804, 41209, 41616, 42025, 42436, 42849, 43264, 43681, 44100, 44521, 44944, 45369, 45796, 46225, 46656, 47089, 47524, 47961, 48400, 48841, 49284, 49729, 50176, 50625, 51076, 51529, 51984, 52441, 52900, 53361, 53824, 54289, 54756, 55225, 55696, 56169, 56644, 57121, 57600, 58081, 58564, 59049, 59536, 60025, 60516, 61009, 61504, 62001, 62500, 63001, 63504, 64009, 64516, 65025, 65536, 66049, 66564, 67081, 67600, 68121, 68644, 69169, 69696, 70225, 70756, 71289, 71824, 72361, 72900, 73441, 73984, 74529, 75076, 75625, 76176, 76729, 77284, 77841, 78400, 78961, 79524, 80089, 80656, 81225, 81796, 82369, 82944, 83521, 84100, 84681, 85264, 85849, 86436, 87025, 87616, 88209, 88804, 89401, 90000, 90601, 91204, 91809, 92416, 93025, 93636, 94249, 94864, 95481, 96100, 96721, 97344, 97969, 98596, 99225, 99856, 100489, 101124, 101761, 102400, 103041, 103684, 104329, 104976, 105625, 106276, 106929, 107584, 108241, 108900, 109561, 110224, 110889, 111556, 112225, 112896, 113569, 114244, 114921, 115600, 116281, 116964, 117649, 118336, 119025, 119716, 120409, 121104, 121801, 122500, 123201, 123904, 124609, 125316, 126025, 126736, 127449, 128164, 128881, 129600, 130321, 131044, 131769, 132496, 133225, 133956, 134689, 135424, 136161, 136900, 137641, 138384, 139129, 139876, 140625, 141376, 142129, 142884, 143641, 144400, 145161, 145924, 146689, 147456, 148225, 148996, 149769, 150544, 151321, 152100, 152881, 153664, 154449, 155236, 156025, 156816, 157609, 158404, 159201, 160000, 160801, 161604, 162409, 163216, 164025, 164836, 165649, 166464, 167281, 168100, 168921, 169744, 170569, 171396, 172225, 173056, 173889, 174724, 175561, 176400, 177241, 178084, 178929, 179776, 180625, 181476, 182329, 183184, 184041, 184900, 185761, 186624, 187489, 188356, 189225, 190096, 190969, 191844, 192721, 193600, 194481, 195364, 196249, 197136, 198025, 198916, 199809, 200704, 201601, 202500, 203401, 204304, 205209, 206116, 207025, 207936, 208849, 209764, 210681, 211600, 212521, 213444, 214369, 215296, 216225, 217156, 218089, 219024, 219961, 220900, 221841, 222784, 223729, 224676, 225625, 226576, 227529, 228484, 229441, 230400, 231361, 232324, 233289, 234256, 235225, 236196, 237169, 238144, 239121, 240100, 241081, 242064, 243049, 244036, 245025, 246016, 247009, 248004, 249001, 250000, 251001, 252004, 253009, 254016, 255025, 256036, 257049, 258064, 259081, 260100, 261121, 262144, 263169, 264196, 265225, 266256, 267289, 268324, 269361, 270400, 271441, 272484, 273529, 274576, 275625, 276676, 277729, 278784, 279841, 280900, 281961, 283024, 284089, 285156, 286225, 287296, 288369, 289444, 290521, 291600, 292681, 293764, 294849, 295936, 297025, 298116, 299209, 300304, 301401, 302500, 303601, 304704, 305809, 306916, 308025, 309136, 310249, 311364, 312481, 313600, 314721, 315844, 316969, 318096, 319225, 320356, 321489, 322624, 323761, 324900, 326041, 327184, 328329, 329476, 330625, 331776, 332929, 334084, 335241, 336400, 337561, 338724, 339889, 341056, 342225, 343396, 344569, 345744, 346921, 348100, 349281, 350464, 351649, 352836, 354025, 355216, 356409, 357604, 358801, 360000, 361201, 362404, 363609, 364816, 366025, 367236, 368449, 369664, 370881, 372100, 373321, 374544, 375769, 376996, 378225, 379456, 380689, 381924, 383161, 384400, 385641, 386884, 388129, 389376, 390625, 391876, 393129, 394384, 395641, 396900, 398161, 399424, 400689, 401956, 403225, 404496, 405769, 407044, 408321, 409600, 410881, 412164, 413449, 414736, 416025, 417316, 418609, 419904, 421201, 422500, 423801, 425104, 426409, 427716, 429025, 430336, 431649, 432964, 434281, 435600, 436921, 438244, 439569, 440896, 442225, 443556, 444889, 446224, 447561, 448900, 450241, 451584, 452929, 454276, 455625, 456976, 458329, 459684, 461041, 462400, 463761, 465124, 466489, 467856, 469225, 470596, 471969, 473344, 474721, 476100, 477481, 478864, 480249, 481636, 483025, 484416, 485809, 487204, 488601, 490000, 491401, 492804, 494209, 495616, 497025, 498436, 499849, 501264, 502681, 504100, 505521, 506944, 508369, 509796, 511225, 512656, 514089, 515524, 516961, 518400, 519841, 521284, 522729, 524176, 525625, 527076, 528529, 529984, 531441, 532900, 534361, 535824, 537289, 538756, 540225, 541696, 543169, 544644, 546121, 547600, 549081, 550564, 552049, 553536, 555025, 556516, 558009, 559504, 561001, 562500, 564001, 565504, 567009, 568516, 570025, 571536, 573049, 574564, 576081, 577600, 579121, 580644, 582169, 583696, 585225, 586756, 588289, 589824, 591361, 592900, 594441, 595984, 597529, 599076, 600625, 602176, 603729, 605284, 606841, 608400, 609961, 611524, 613089, 614656, 616225, 617796, 619369, 620944, 622521, 624100, 625681, 627264, 628849, 630436, 632025, 633616, 635209, 636804, 638401, 640000, 641601, 643204, 644809, 646416, 648025, 649636, 651249, 652864, 654481, 656100, 657721, 659344, 660969, 662596, 664225, 665856, 667489, 669124, 670761, 672400, 674041, 675684, 677329, 678976, 680625, 682276, 683929, 685584, 687241, 688900, 690561, 692224, 693889, 695556, 697225, 698896, 700569, 702244, 703921, 705600, 707281, 708964, 710649, 712336, 714025, 715716, 717409, 719104, 720801, 722500, 724201, 725904, 727609, 729316, 731025, 732736, 734449, 736164, 737881, 739600, 741321, 743044, 744769, 746496, 748225, 749956, 751689, 753424, 755161, 756900, 758641, 760384, 762129, 763876, 765625, 767376, 769129, 770884, 772641, 774400, 776161, 777924, 779689, 781456, 783225, 784996, 786769, 788544, 790321, 792100, 793881, 795664, 797449, 799236, 801025, 802816, 804609, 806404, 808201, 810000, 811801, 813604, 815409, 817216, 819025, 820836, 822649, 824464, 826281, 828100, 829921, 831744, 833569, 835396, 837225, 839056, 840889, 842724, 844561, 846400, 848241, 850084, 851929, 853776, 855625, 857476, 859329, 861184, 863041, 864900, 866761, 868624, 870489, 872356, 874225, 876096, 877969, 879844, 881721, 883600, 885481, 887364, 889249, 891136, 893025, 894916, 896809, 898704, 900601, 902500, 904401, 906304, 908209, 910116, 912025, 913936, 915849, 917764, 919681, 921600, 923521, 925444, 927369, 929296, 931225, 933156, 935089, 937024, 938961, 940900, 942841, 944784, 946729, 948676, 950625, 952576, 954529, 956484, 958441, 960400, 962361, 964324, 966289, 968256, 970225, 972196, 974169, 976144, 978121, 980100, 982081, 984064, 986049, 988036, 990025, 992016, 994009, 996004, 998001]\n"
     ]
    }
   ],
   "source": [
    "print([n*n for n in range(1000)])"
   ]
  },
  {
   "cell_type": "code",
   "execution_count": 58,
   "id": "996ac227-7ebb-49dc-8ef6-90098620092e",
   "metadata": {},
   "outputs": [
    {
     "name": "stdout",
     "output_type": "stream",
     "text": [
      "49.1 µs ± 454 ns per loop (mean ± std. dev. of 7 runs, 10,000 loops each)\n"
     ]
    }
   ],
   "source": [
    "%timeit [n*n for n in range(1000)]"
   ]
  },
  {
   "cell_type": "code",
   "execution_count": 59,
   "id": "75a78d03-b4b1-4495-afe8-751628e1e948",
   "metadata": {},
   "outputs": [
    {
     "name": "stdout",
     "output_type": "stream",
     "text": [
      "2.11 µs ± 10.2 ns per loop (mean ± std. dev. of 7 runs, 100,000 loops each)\n"
     ]
    }
   ],
   "source": [
    "%timeit np.arange(1000)**2"
   ]
  },
  {
   "cell_type": "code",
   "execution_count": 62,
   "id": "0864beda-50ad-478c-958a-d819c863043d",
   "metadata": {},
   "outputs": [],
   "source": [
    "def dot(m1, m2):\n",
    "    s =0\n",
    "    for i in range(1000):\n",
    "        s+= m1[i] * m2[i]\n",
    "    return s"
   ]
  },
  {
   "cell_type": "code",
   "execution_count": 64,
   "id": "b8577ddd-603e-4322-926d-ada68147658e",
   "metadata": {},
   "outputs": [
    {
     "data": {
      "text/plain": [
       "190"
      ]
     },
     "execution_count": 64,
     "metadata": {},
     "output_type": "execute_result"
    }
   ],
   "source": [
    "np.dot(m1, m2)"
   ]
  },
  {
   "cell_type": "code",
   "execution_count": 65,
   "id": "6d06cda2-5622-48fc-8f10-69079e7d1294",
   "metadata": {},
   "outputs": [],
   "source": [
    "n0 = np.array([[0, 1, 2], [4, 5, 6]])"
   ]
  },
  {
   "cell_type": "code",
   "execution_count": 67,
   "id": "f3573eac-a021-43fa-a0e1-f34529c083e8",
   "metadata": {},
   "outputs": [
    {
     "data": {
      "text/plain": [
       "array([[0, 1, 2],\n",
       "       [4, 5, 6]])"
      ]
     },
     "execution_count": 67,
     "metadata": {},
     "output_type": "execute_result"
    }
   ],
   "source": [
    "n0"
   ]
  },
  {
   "cell_type": "code",
   "execution_count": 66,
   "id": "6dc8ca79-b19e-4596-b599-517b68004787",
   "metadata": {},
   "outputs": [
    {
     "data": {
      "text/plain": [
       "(2, 3)"
      ]
     },
     "execution_count": 66,
     "metadata": {},
     "output_type": "execute_result"
    }
   ],
   "source": [
    "n0.shape"
   ]
  },
  {
   "cell_type": "code",
   "execution_count": 68,
   "id": "edb5f8cb-87b5-4bb9-98df-a1a28ee5b1a3",
   "metadata": {},
   "outputs": [
    {
     "data": {
      "text/plain": [
       "array([[0, 1],\n",
       "       [2, 4],\n",
       "       [5, 6]])"
      ]
     },
     "execution_count": 68,
     "metadata": {},
     "output_type": "execute_result"
    }
   ],
   "source": [
    "n0.reshape(3, 2)"
   ]
  },
  {
   "cell_type": "code",
   "execution_count": 71,
   "id": "b7a3f17d-b126-42ec-934c-8cb8381e3de1",
   "metadata": {},
   "outputs": [
    {
     "data": {
      "text/plain": [
       "array([[0., 0., 0.],\n",
       "       [0., 0., 0.]])"
      ]
     },
     "execution_count": 71,
     "metadata": {},
     "output_type": "execute_result"
    }
   ],
   "source": [
    "np.zeros((2, 3))"
   ]
  },
  {
   "cell_type": "code",
   "execution_count": 70,
   "id": "10d67248-3d1e-48db-9fd8-e30c28724868",
   "metadata": {},
   "outputs": [
    {
     "data": {
      "text/plain": [
       "array([[6.23042070e-307, 4.67296746e-307, 1.69121096e-306],\n",
       "       [1.89143161e-307, 2.67017962e-306, 1.05699581e-307]])"
      ]
     },
     "execution_count": 70,
     "metadata": {},
     "output_type": "execute_result"
    }
   ],
   "source": [
    "np.empty((2, 3))"
   ]
  },
  {
   "cell_type": "code",
   "execution_count": 72,
   "id": "bfb5ac7e-cac9-45ac-a9a2-1d5b10ef39c6",
   "metadata": {},
   "outputs": [
    {
     "data": {
      "text/plain": [
       "array([[1., 1., 1.],\n",
       "       [1., 1., 1.]])"
      ]
     },
     "execution_count": 72,
     "metadata": {},
     "output_type": "execute_result"
    }
   ],
   "source": [
    "np.ones((2, 3))"
   ]
  },
  {
   "cell_type": "code",
   "execution_count": null,
   "id": "6f1a2769-8603-4d02-983d-7f3084e98a39",
   "metadata": {},
   "outputs": [],
   "source": []
  }
 ],
 "metadata": {
  "kernelspec": {
   "display_name": "Python 3 (ipykernel)",
   "language": "python",
   "name": "python3"
  },
  "language_info": {
   "codemirror_mode": {
    "name": "ipython",
    "version": 3
   },
   "file_extension": ".py",
   "mimetype": "text/x-python",
   "name": "python",
   "nbconvert_exporter": "python",
   "pygments_lexer": "ipython3",
   "version": "3.10.8"
  }
 },
 "nbformat": 4,
 "nbformat_minor": 5
}
